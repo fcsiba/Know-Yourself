{
 "cells": [
  {
   "cell_type": "code",
   "execution_count": 101,
   "metadata": {
    "scrolled": false
   },
   "outputs": [],
   "source": [
    "import pandas as pd\n",
    "\n",
    "original_csv_data = open('dataset\\\\hate_scrap.csv', 'r', encoding=\"utf8\")\n",
    "hate_data = pd.read_csv(original_csv_data)\n",
    "original_csv_data.close()"
   ]
  },
  {
   "cell_type": "code",
   "execution_count": 102,
   "metadata": {},
   "outputs": [
    {
     "data": {
      "text/html": [
       "<div>\n",
       "<style scoped>\n",
       "    .dataframe tbody tr th:only-of-type {\n",
       "        vertical-align: middle;\n",
       "    }\n",
       "\n",
       "    .dataframe tbody tr th {\n",
       "        vertical-align: top;\n",
       "    }\n",
       "\n",
       "    .dataframe thead th {\n",
       "        text-align: right;\n",
       "    }\n",
       "</style>\n",
       "<table border=\"1\" class=\"dataframe\">\n",
       "  <thead>\n",
       "    <tr style=\"text-align: right;\">\n",
       "      <th></th>\n",
       "      <th>tweet</th>\n",
       "      <th>username</th>\n",
       "    </tr>\n",
       "  </thead>\n",
       "  <tbody>\n",
       "    <tr>\n",
       "      <th>0</th>\n",
       "      <td>I don’t #HATE u. I might not want u around me ...</td>\n",
       "      <td>@DebraLGriffin</td>\n",
       "    </tr>\n",
       "    <tr>\n",
       "      <th>1</th>\n",
       "      <td>TRUMPS DEATH SURGE JULY 2020 * 131,823 virus d...</td>\n",
       "      <td>@BombshellDAILY</td>\n",
       "    </tr>\n",
       "    <tr>\n",
       "      <th>2</th>\n",
       "      <td>We all need to go back to 2 yrs old, &amp; unlearn...</td>\n",
       "      <td>@sdreed1108</td>\n",
       "    </tr>\n",
       "    <tr>\n",
       "      <th>3</th>\n",
       "      <td>#JaneElliott Why do some #Hate ? pic.twitter.c...</td>\n",
       "      <td>@REDTOPS112</td>\n",
       "    </tr>\n",
       "    <tr>\n",
       "      <th>4</th>\n",
       "      <td>Meanwhile, FB claims they're fighting #hate on...</td>\n",
       "      <td>@JGreenblattADL</td>\n",
       "    </tr>\n",
       "    <tr>\n",
       "      <th>...</th>\n",
       "      <td>...</td>\n",
       "      <td>...</td>\n",
       "    </tr>\n",
       "    <tr>\n",
       "      <th>5869</th>\n",
       "      <td>It shouldn't #bother me, but it does. I should...</td>\n",
       "      <td>@TheWizKhalifa</td>\n",
       "    </tr>\n",
       "    <tr>\n",
       "      <th>5870</th>\n",
       "      <td>On this #InternationalPeaceDay wouldn't it be ...</td>\n",
       "      <td>@WillConard</td>\n",
       "    </tr>\n",
       "    <tr>\n",
       "      <th>5871</th>\n",
       "      <td>IMAGINE a world without #war, a world without ...</td>\n",
       "      <td>@RomsesRogers</td>\n",
       "    </tr>\n",
       "    <tr>\n",
       "      <th>5872</th>\n",
       "      <td>Cried on the bus today over fix u by coldplay....</td>\n",
       "      <td>@SawyerPlatt</td>\n",
       "    </tr>\n",
       "    <tr>\n",
       "      <th>5873</th>\n",
       "      <td>GOP coalition: The Rich and the Religious are ...</td>\n",
       "      <td>@TheDailyEdge</td>\n",
       "    </tr>\n",
       "  </tbody>\n",
       "</table>\n",
       "<p>5874 rows × 2 columns</p>\n",
       "</div>"
      ],
      "text/plain": [
       "                                                  tweet         username\n",
       "0     I don’t #HATE u. I might not want u around me ...   @DebraLGriffin\n",
       "1     TRUMPS DEATH SURGE JULY 2020 * 131,823 virus d...  @BombshellDAILY\n",
       "2     We all need to go back to 2 yrs old, & unlearn...      @sdreed1108\n",
       "3     #JaneElliott Why do some #Hate ? pic.twitter.c...      @REDTOPS112\n",
       "4     Meanwhile, FB claims they're fighting #hate on...  @JGreenblattADL\n",
       "...                                                 ...              ...\n",
       "5869  It shouldn't #bother me, but it does. I should...   @TheWizKhalifa\n",
       "5870  On this #InternationalPeaceDay wouldn't it be ...      @WillConard\n",
       "5871  IMAGINE a world without #war, a world without ...    @RomsesRogers\n",
       "5872  Cried on the bus today over fix u by coldplay....     @SawyerPlatt\n",
       "5873  GOP coalition: The Rich and the Religious are ...    @TheDailyEdge\n",
       "\n",
       "[5874 rows x 2 columns]"
      ]
     },
     "execution_count": 102,
     "metadata": {},
     "output_type": "execute_result"
    }
   ],
   "source": [
    "hate_data\n",
    "#anger_text = hate_data[hate_data.Field1 == 'disgust']\n",
    "#len(anger_text)"
   ]
  },
  {
   "cell_type": "raw",
   "metadata": {},
   "source": []
  },
  {
   "cell_type": "code",
   "execution_count": 103,
   "metadata": {},
   "outputs": [],
   "source": [
    "anger_text_sentences = hate_data['tweet'].values"
   ]
  },
  {
   "cell_type": "code",
   "execution_count": 104,
   "metadata": {},
   "outputs": [
    {
     "data": {
      "text/plain": [
       "5874"
      ]
     },
     "execution_count": 104,
     "metadata": {},
     "output_type": "execute_result"
    }
   ],
   "source": [
    "len(anger_text_sentences)"
   ]
  },
  {
   "cell_type": "code",
   "execution_count": 78,
   "metadata": {},
   "outputs": [],
   "source": [
    "#anger_text_sentences\n",
    "anger_text_class = ['anger' for i in range(760)]"
   ]
  },
  {
   "cell_type": "code",
   "execution_count": 79,
   "metadata": {},
   "outputs": [
    {
     "data": {
      "text/plain": [
       "760"
      ]
     },
     "execution_count": 79,
     "metadata": {},
     "output_type": "execute_result"
    }
   ],
   "source": [
    "len(anger_text_class)"
   ]
  },
  {
   "cell_type": "code",
   "execution_count": 105,
   "metadata": {},
   "outputs": [],
   "source": [
    "import pickle\n",
    "\n",
    "with open('hate_hate_hate.pkl', 'wb') as f:\n",
    "   pickle.dump(anger_text_sentences, f)\n"
   ]
  },
  {
   "cell_type": "code",
   "execution_count": null,
   "metadata": {},
   "outputs": [],
   "source": []
  }
 ],
 "metadata": {
  "kernelspec": {
   "display_name": "Python 3",
   "language": "python",
   "name": "python3"
  },
  "language_info": {
   "codemirror_mode": {
    "name": "ipython",
    "version": 3
   },
   "file_extension": ".py",
   "mimetype": "text/x-python",
   "name": "python",
   "nbconvert_exporter": "python",
   "pygments_lexer": "ipython3",
   "version": "3.7.6"
  }
 },
 "nbformat": 4,
 "nbformat_minor": 4
}
