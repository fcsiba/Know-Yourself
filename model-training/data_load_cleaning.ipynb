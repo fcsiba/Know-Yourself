{
 "cells": [
  {
   "cell_type": "code",
   "execution_count": 56,
   "metadata": {},
   "outputs": [],
   "source": [
    "import pandas as pd\n",
    "import numpy as np\n",
    "import pickle\n",
    "import re\n",
    "import string\n",
    "import nltk\n",
    "from nltk.corpus import stopwords\n",
    "from nltk.stem import PorterStemmer\n",
    "from nltk.tokenize import word_tokenize\n",
    "\n",
    "file = open('final_all_data2.pkl', 'rb')\n",
    "original_dataframe = pickle.load(file)\n",
    "file.close()\n"
   ]
  },
  {
   "cell_type": "code",
   "execution_count": 57,
   "metadata": {},
   "outputs": [],
   "source": [
    "original_dataframe_play = original_dataframe"
   ]
  },
  {
   "cell_type": "code",
   "execution_count": 58,
   "metadata": {},
   "outputs": [
    {
     "data": {
      "text/plain": [
       "['neutral', 'hate', 'happy', 'sad', 'anger']"
      ]
     },
     "execution_count": 58,
     "metadata": {},
     "output_type": "execute_result"
    }
   ],
   "source": [
    "unique_sentiments = original_dataframe['class'].unique().tolist()\n",
    "unique_sentiments"
   ]
  },
  {
   "cell_type": "code",
   "execution_count": 59,
   "metadata": {},
   "outputs": [],
   "source": [
    "ps = PorterStemmer()\n",
    "\n",
    "def words_only(text):\n",
    "    '''Remove puctuations, underscores, numbers, words containing numbers and @_mentions.'''\n",
    "    text = text.lower()\n",
    "    text = re.sub(r'\\w*\\#angry\\w*', '', text)\n",
    "    text = re.sub(r'\\w*\\#hate\\w*', '', text)\n",
    "    text = re.sub(r'\\w*\\#neutral\\w*', '', text)\n",
    "    text = re.sub(r'\\w*\\#sad\\w*', '', text)\n",
    "    text = re.sub(r'\\w*\\#happy\\w*', '', text)\n",
    "    text = re.sub(r'\\w*\\@\\w*', '', text)\n",
    "    text = re.sub(r'[^\\w\\s]','', text)\n",
    "    text = re.sub(r'\\_','',text)\n",
    "    text = re.sub(r'\\w*\\d\\w*', '', text)\n",
    "    text = re.sub(' +', ' ',text)\n",
    "    return remove_stop_words(text.strip())\n",
    "\n",
    "#nltk.download('punkt')\n",
    "\n",
    "def remove_stop_words(text):\n",
    "    '''Remove stop words and stem the words'''\n",
    "    text_filtered = \"\"\n",
    "    text = word_tokenize(text)\n",
    "    for word in text:\n",
    "        if word not in stopwords.words(\"english\"):\n",
    "            word = ps.stem(word)\n",
    "            text_filtered = text_filtered+\" \"+word\n",
    "    return text_filtered.strip()\n",
    "\n",
    "list_of_tweets = original_dataframe['tweet'].values\n",
    "list_of_classes = original_dataframe['class'].values\n",
    "\n",
    "lister = []\n",
    "\n",
    "count = 0\n",
    "for i in list_of_tweets:\n",
    "    list_of_tweets[count] = words_only(list_of_tweets[count])\n",
    "    count = count + 1"
   ]
  },
  {
   "cell_type": "code",
   "execution_count": 60,
   "metadata": {
    "scrolled": true
   },
   "outputs": [
    {
     "data": {
      "text/plain": [
       "array(['hire smart monkey email market',\n",
       "       'much singl video happen plant seed hatr divis happen democrat give support permiss dehuman critic twittercomdrlatenightnew resist',\n",
       "       'right feel', ..., 'aww im sorri honey stink',\n",
       "       'id love im way india',\n",
       "       'racist violenc alleg case horrif sadli implic privat actor local offici twittercomdavidtaffetst'],\n",
       "      dtype=object)"
      ]
     },
     "execution_count": 60,
     "metadata": {},
     "output_type": "execute_result"
    }
   ],
   "source": [
    "#print(len(list_of_classes))\n",
    "list_of_tweets"
   ]
  },
  {
   "cell_type": "code",
   "execution_count": 61,
   "metadata": {},
   "outputs": [],
   "source": [
    "import pickle\n",
    "\n",
    "with open('processed_list_of_tweets2.pkl', 'wb') as f:\n",
    "   pickle.dump(list_of_tweets, f)\n",
    "\n",
    "with open('processed_list_of_classes2.pkl', 'wb') as f:\n",
    "   pickle.dump(list_of_classes, f)"
   ]
  },
  {
   "cell_type": "code",
   "execution_count": 12,
   "metadata": {},
   "outputs": [
    {
     "data": {
      "text/plain": [
       "'all_sentiments = list_of_classes\\ncount = 0\\nfor sentiment in all_sentiments:\\n    if sentiment == \"enthusiasm\" or sentiment == \"fun\" or sentiment == \"relief\" or sentiment == \"surprise\" or sentiment == \"love\" or sentiment == \"happiness\":\\n        all_sentiments[count] = \"happy\"\\n    elif sentiment == \"empty\" or sentiment == \"boredom\":\\n        all_sentiments[count] = \"neutral\"\\n    elif sentiment == \"worry\" or sentiment == \"sadness\":\\n        all_sentiments[count] = \"sad\"\\n    count = count + 1\\n'"
      ]
     },
     "execution_count": 12,
     "metadata": {},
     "output_type": "execute_result"
    }
   ],
   "source": [
    "\"\"\"all_sentiments = list_of_classes\n",
    "count = 0\n",
    "for sentiment in all_sentiments:\n",
    "    if sentiment == \"enthusiasm\" or sentiment == \"fun\" or sentiment == \"relief\" or sentiment == \"surprise\" or sentiment == \"love\" or sentiment == \"happiness\":\n",
    "        all_sentiments[count] = \"happy\"\n",
    "    elif sentiment == \"empty\" or sentiment == \"boredom\":\n",
    "        all_sentiments[count] = \"neutral\"\n",
    "    elif sentiment == \"worry\" or sentiment == \"sadness\":\n",
    "        all_sentiments[count] = \"sad\"\n",
    "    count = count + 1\n",
    "\"\"\""
   ]
  },
  {
   "cell_type": "code",
   "execution_count": 13,
   "metadata": {},
   "outputs": [
    {
     "data": {
      "text/plain": [
       "'import numpy as np\\nnp.count_nonzero(all_sentiments == \"happy\")\\n'"
      ]
     },
     "execution_count": 13,
     "metadata": {},
     "output_type": "execute_result"
    }
   ],
   "source": [
    "\"\"\"import numpy as np\n",
    "np.count_nonzero(all_sentiments == \"happy\")\n",
    "\"\"\""
   ]
  },
  {
   "cell_type": "code",
   "execution_count": 5,
   "metadata": {},
   "outputs": [
    {
     "name": "stdout",
     "output_type": "stream",
     "text": [
      "@wow is this angry \n"
     ]
    }
   ],
   "source": [
    "\"\"\"import pickle\n",
    "with open('all_classes101.pkl', 'wb') as f:\n",
    "   pickle.dump(all_sentiments, f)\"\"\""
   ]
  },
  {
   "cell_type": "code",
   "execution_count": null,
   "metadata": {},
   "outputs": [],
   "source": []
  }
 ],
 "metadata": {
  "kernelspec": {
   "display_name": "Python 3",
   "language": "python",
   "name": "python3"
  },
  "language_info": {
   "codemirror_mode": {
    "name": "ipython",
    "version": 3
   },
   "file_extension": ".py",
   "mimetype": "text/x-python",
   "name": "python",
   "nbconvert_exporter": "python",
   "pygments_lexer": "ipython3",
   "version": "3.7.6"
  }
 },
 "nbformat": 4,
 "nbformat_minor": 4
}
