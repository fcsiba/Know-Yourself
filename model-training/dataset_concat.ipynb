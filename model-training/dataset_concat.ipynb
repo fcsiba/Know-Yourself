{
 "cells": [
  {
   "cell_type": "code",
   "execution_count": 4,
   "metadata": {},
   "outputs": [],
   "source": [
    "import pickle\n",
    "import pandas as pd\n",
    "\n",
    "# open a file, where you stored the pickled data\n",
    "file1 = open('anger_text_sentences.pkl', 'rb')\n",
    "file2 = open('anger_text_sentences2.pkl', 'rb')\n",
    "file3 = open('anger_text_sentences3.pkl', 'rb')\n",
    "file4 = open('anger_text_sentences4.pkl', 'rb')\n",
    "file5 = open('anger_text_sentences5.pkl', 'rb')\n",
    "\n",
    "# dump information to that file\n",
    "data1 = pickle.load(file1)\n",
    "data2 = pickle.load(file2)\n",
    "data3 = pickle.load(file3)\n",
    "data4 = pickle.load(file4)\n",
    "data5 = pickle.load(file5)\n",
    "\n",
    "# close the file\n",
    "file1.close()\n",
    "file2.close()\n",
    "file3.close()\n",
    "file4.close()\n",
    "file5.close()"
   ]
  },
  {
   "cell_type": "code",
   "execution_count": 9,
   "metadata": {},
   "outputs": [
    {
     "name": "stdout",
     "output_type": "stream",
     "text": [
      "2159\n",
      "275\n",
      "1096\n",
      "857\n",
      "760\n"
     ]
    }
   ],
   "source": [
    "print(len(data1))\n",
    "print(len(data2))\n",
    "print(len(data3))\n",
    "print(len(data4))\n",
    "print(len(data5))"
   ]
  },
  {
   "cell_type": "code",
   "execution_count": 12,
   "metadata": {},
   "outputs": [],
   "source": [
    "file6 = open('anger_text_sentences5.pkl', 'rb')\n",
    "data6 = pickle.load(file6)\n",
    "file6.close()"
   ]
  },
  {
   "cell_type": "code",
   "execution_count": 13,
   "metadata": {},
   "outputs": [
    {
     "data": {
      "text/plain": [
       "1096"
      ]
     },
     "execution_count": 13,
     "metadata": {},
     "output_type": "execute_result"
    }
   ],
   "source": [
    "len(data6)"
   ]
  },
  {
   "cell_type": "code",
   "execution_count": 20,
   "metadata": {},
   "outputs": [],
   "source": [
    "import numpy as np\n",
    "\n",
    "more_anger = np.concatenate((data1, data2, data3, data4, data5, data6))"
   ]
  },
  {
   "cell_type": "code",
   "execution_count": 21,
   "metadata": {},
   "outputs": [
    {
     "data": {
      "text/plain": [
       "6243"
      ]
     },
     "execution_count": 21,
     "metadata": {},
     "output_type": "execute_result"
    }
   ],
   "source": [
    "len(more_anger)"
   ]
  },
  {
   "cell_type": "code",
   "execution_count": 22,
   "metadata": {},
   "outputs": [],
   "source": [
    "file7 = open('anger_text_sentences7.pkl', 'rb')\n",
    "data7 = pickle.load(file7)\n",
    "file7.close()"
   ]
  },
  {
   "cell_type": "code",
   "execution_count": 23,
   "metadata": {},
   "outputs": [
    {
     "data": {
      "text/plain": [
       "6030"
      ]
     },
     "execution_count": 23,
     "metadata": {},
     "output_type": "execute_result"
    }
   ],
   "source": [
    "len(data7)"
   ]
  },
  {
   "cell_type": "code",
   "execution_count": 24,
   "metadata": {},
   "outputs": [
    {
     "data": {
      "text/plain": [
       "12273"
      ]
     },
     "execution_count": 24,
     "metadata": {},
     "output_type": "execute_result"
    }
   ],
   "source": [
    "all_anger = np.concatenate((more_anger, data7))\n",
    "len(all_anger)"
   ]
  },
  {
   "cell_type": "code",
   "execution_count": 25,
   "metadata": {},
   "outputs": [
    {
     "data": {
      "text/plain": [
       "array(['im grabbing a minute to post i feel greedy wrong',\n",
       "       'i am feeling grouchy',\n",
       "       'i think it s the easiest time of year to feel dissatisfied', ...,\n",
       "       \"Dear @CocaCola how come you can have POOJA but not KELVIN?! It's not a rare name It's kevin with a L! #angry pic.twitter.com/y8HCqnjpjS\",\n",
       "       \"How about letting some England fans to the game in ENGLAND, them Indians will be English tomorrow when they're claiming benefits #angry\",\n",
       "       'Cried huge sobs and had to stop midway, as i saw a video on how animals are skinned for fur while ALIVE! #notofur #notoanimalcruelty #angry'],\n",
       "      dtype=object)"
      ]
     },
     "execution_count": 25,
     "metadata": {},
     "output_type": "execute_result"
    }
   ],
   "source": [
    "all_anger"
   ]
  },
  {
   "cell_type": "code",
   "execution_count": 26,
   "metadata": {},
   "outputs": [],
   "source": [
    "with open('angry_tweets101.pkl', 'wb') as f:\n",
    "   pickle.dump(all_anger, f)"
   ]
  },
  {
   "cell_type": "code",
   "execution_count": 27,
   "metadata": {},
   "outputs": [],
   "source": [
    "file8 = open('hate_tweets.pkl', 'rb')\n",
    "data8 = pickle.load(file8)\n",
    "file8.close()"
   ]
  },
  {
   "cell_type": "code",
   "execution_count": 28,
   "metadata": {},
   "outputs": [
    {
     "data": {
      "text/plain": [
       "4993"
      ]
     },
     "execution_count": 28,
     "metadata": {},
     "output_type": "execute_result"
    }
   ],
   "source": [
    "len(data8)"
   ]
  },
  {
   "cell_type": "code",
   "execution_count": 29,
   "metadata": {},
   "outputs": [],
   "source": [
    "file10 = open('hate_hate_hate.pkl', 'rb')\n",
    "data10 = pickle.load(file10)\n",
    "file10.close()"
   ]
  },
  {
   "cell_type": "code",
   "execution_count": 30,
   "metadata": {},
   "outputs": [
    {
     "data": {
      "text/plain": [
       "5874"
      ]
     },
     "execution_count": 30,
     "metadata": {},
     "output_type": "execute_result"
    }
   ],
   "source": [
    "len(data10)"
   ]
  },
  {
   "cell_type": "code",
   "execution_count": 31,
   "metadata": {},
   "outputs": [],
   "source": [
    "file11 = open('hate_tweets.pkl', 'rb')\n",
    "data11 = pickle.load(file11)\n",
    "file11.close()"
   ]
  },
  {
   "cell_type": "code",
   "execution_count": 32,
   "metadata": {},
   "outputs": [
    {
     "data": {
      "text/plain": [
       "4993"
      ]
     },
     "execution_count": 32,
     "metadata": {},
     "output_type": "execute_result"
    }
   ],
   "source": [
    "len(data11)"
   ]
  },
  {
   "cell_type": "code",
   "execution_count": 33,
   "metadata": {},
   "outputs": [
    {
     "data": {
      "text/plain": [
       "array(['I don’t #HATE u. I might not want u around me but I don’t #HATE u. Agree w me or not but a part of #America’s strength is her #diversity . pic.twitter.com/xEewgF08P8',\n",
       "       'TRUMPS DEATH SURGE JULY 2020 * 131,823 virus deaths * 2.8M infected * Covid cult rallys * Surrendering to virus * Inciting race wars * Tear-gassing U.S. citizens * Impeached by own Congress * 42 million unemployed * Mass graves in NYC #maga #koolaid #WWII #Racism @POTUS #hate pic.twitter.com/u5G4hrxaqK',\n",
       "       'We all need to go back to 2 yrs old, & unlearn the #hate we have been taught. twitter.com/resistersis20/…',\n",
       "       ..., \"you niggers cheat on ya gf's? smh....\", \"you're all niggers\",\n",
       "       \"you're such a retard i hope you get type 2 diabetes and die from a sugar rush you fucking faggot @Dare_ILK\"],\n",
       "      dtype=object)"
      ]
     },
     "execution_count": 33,
     "metadata": {},
     "output_type": "execute_result"
    }
   ],
   "source": [
    "hate_tweets_101 = np.concatenate((data10, data11))\n",
    "hate_tweets_101"
   ]
  },
  {
   "cell_type": "code",
   "execution_count": 34,
   "metadata": {},
   "outputs": [
    {
     "data": {
      "text/plain": [
       "10867"
      ]
     },
     "execution_count": 34,
     "metadata": {},
     "output_type": "execute_result"
    }
   ],
   "source": [
    "len(hate_tweets_101)"
   ]
  },
  {
   "cell_type": "code",
   "execution_count": 35,
   "metadata": {},
   "outputs": [],
   "source": [
    "with open('hate_tweets101.pkl', 'wb') as f:\n",
    "   pickle.dump(hate_tweets_101, f)"
   ]
  },
  {
   "cell_type": "code",
   "execution_count": 37,
   "metadata": {},
   "outputs": [],
   "source": [
    "anger_class_tag = ['anger' for i in range (12273)]"
   ]
  },
  {
   "cell_type": "code",
   "execution_count": 38,
   "metadata": {},
   "outputs": [],
   "source": [
    "with open('anger_class101.pkl', 'wb') as f:\n",
    "   pickle.dump(anger_class_tag, f)"
   ]
  },
  {
   "cell_type": "code",
   "execution_count": 39,
   "metadata": {},
   "outputs": [],
   "source": [
    "hate_class_tag = ['hate' for i in range (10867)]"
   ]
  },
  {
   "cell_type": "code",
   "execution_count": 40,
   "metadata": {},
   "outputs": [],
   "source": [
    "with open('hate_class101.pkl', 'wb') as f:\n",
    "   pickle.dump(hate_class_tag, f)"
   ]
  },
  {
   "cell_type": "code",
   "execution_count": null,
   "metadata": {},
   "outputs": [],
   "source": []
  }
 ],
 "metadata": {
  "kernelspec": {
   "display_name": "Python 3",
   "language": "python",
   "name": "python3"
  },
  "language_info": {
   "codemirror_mode": {
    "name": "ipython",
    "version": 3
   },
   "file_extension": ".py",
   "mimetype": "text/x-python",
   "name": "python",
   "nbconvert_exporter": "python",
   "pygments_lexer": "ipython3",
   "version": "3.7.6"
  }
 },
 "nbformat": 4,
 "nbformat_minor": 4
}
